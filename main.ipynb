{
 "cells": [
  {
   "cell_type": "code",
   "execution_count": 2,
   "metadata": {},
   "outputs": [],
   "source": [
    "train = False"
   ]
  },
  {
   "cell_type": "code",
   "execution_count": 6,
   "metadata": {},
   "outputs": [
    {
     "name": "stdout",
     "output_type": "stream",
     "text": [
      "  % Total    % Received % Xferd  Average Speed   Time    Time     Time  Current\n",
      "                                 Dload  Upload   Total   Spent    Left  Speed\n",
      "100 74023    0 74023    0     0  97697      0 --:--:-- --:--:-- --:--:-- 98304\n"
     ]
    }
   ],
   "source": [
    "import os\n",
    "# curl csv file from google drive\n",
    "!curl \"https://drive.google.com/file/d/1vo_4tR0SefTrUB6DlBwnqx-aoGtLEx1p/view?usp=share_link\" -o \"data/train.csv\"\n"
   ]
  },
  {
   "attachments": {},
   "cell_type": "markdown",
   "metadata": {},
   "source": [
    "# Introduction"
   ]
  },
  {
   "attachments": {},
   "cell_type": "markdown",
   "metadata": {},
   "source": [
    "- Introduction includes a brief description of your and what problem your\n",
    "technique would be applied to\n",
    "- Introduction includes a description of the dataset that you used\n",
    "- Introduction includes and the specific inputs and outputs of the problem\n",
    "- Introduction clearly states the two techniques used (see section below)\n",
    "- Introduction clearly states the experimental question explored in this\n",
    "project (see experiment section below)"
   ]
  },
  {
   "cell_type": "code",
   "execution_count": null,
   "metadata": {},
   "outputs": [],
   "source": []
  }
 ],
 "metadata": {
  "kernelspec": {
   "display_name": "venv",
   "language": "python",
   "name": "python3"
  },
  "language_info": {
   "codemirror_mode": {
    "name": "ipython",
    "version": 3
   },
   "file_extension": ".py",
   "mimetype": "text/x-python",
   "name": "python",
   "nbconvert_exporter": "python",
   "pygments_lexer": "ipython3",
   "version": "3.9.16"
  },
  "orig_nbformat": 4
 },
 "nbformat": 4,
 "nbformat_minor": 2
}
